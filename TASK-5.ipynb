{
 "cells": [
  {
   "cell_type": "code",
   "execution_count": 1,
   "id": "240ec053",
   "metadata": {},
   "outputs": [
    {
     "name": "stderr",
     "output_type": "stream",
     "text": [
      "[nltk_data] Downloading package punkt to C:\\Users\\BOLLA\n",
      "[nltk_data]     POOJA\\AppData\\Roaming\\nltk_data...\n",
      "[nltk_data]   Package punkt is already up-to-date!\n",
      "[nltk_data] Downloading package stopwords to C:\\Users\\BOLLA\n",
      "[nltk_data]     POOJA\\AppData\\Roaming\\nltk_data...\n",
      "[nltk_data]   Package stopwords is already up-to-date!\n",
      "[nltk_data] Downloading package wordnet to C:\\Users\\BOLLA\n",
      "[nltk_data]     POOJA\\AppData\\Roaming\\nltk_data...\n",
      "[nltk_data]   Package wordnet is already up-to-date!\n"
     ]
    },
    {
     "name": "stdout",
     "output_type": "stream",
     "text": [
      "Original Text: Natural language processing (NLP) is a subfield of linguistics, computer science, and artificial intelligence concerned with the interactions between computers and human languages, in particular how to program computers to process and analyze large amounts of natural language data.\n",
      "Tokens: ['Natural', 'language', 'processing', '(', 'NLP', ')', 'is', 'a', 'subfield', 'of', 'linguistics', ',', 'computer', 'science', ',', 'and', 'artificial', 'intelligence', 'concerned', 'with', 'the', 'interactions', 'between', 'computers', 'and', 'human', 'languages', ',', 'in', 'particular', 'how', 'to', 'program', 'computers', 'to', 'process', 'and', 'analyze', 'large', 'amounts', 'of', 'natural', 'language', 'data', '.']\n",
      "Filtered Tokens (without stop words): ['Natural', 'language', 'processing', '(', 'NLP', ')', 'subfield', 'linguistics', ',', 'computer', 'science', ',', 'artificial', 'intelligence', 'concerned', 'interactions', 'computers', 'human', 'languages', ',', 'particular', 'program', 'computers', 'process', 'analyze', 'large', 'amounts', 'natural', 'language', 'data', '.']\n",
      "Stemmed Tokens: ['natur', 'languag', 'process', '(', 'nlp', ')', 'subfield', 'linguist', ',', 'comput', 'scienc', ',', 'artifici', 'intellig', 'concern', 'interact', 'comput', 'human', 'languag', ',', 'particular', 'program', 'comput', 'process', 'analyz', 'larg', 'amount', 'natur', 'languag', 'data', '.']\n",
      "Lemmatized Tokens: ['Natural', 'language', 'processing', '(', 'NLP', ')', 'subfield', 'linguistics', ',', 'computer', 'science', ',', 'artificial', 'intelligence', 'concerned', 'interaction', 'computer', 'human', 'language', ',', 'particular', 'program', 'computer', 'process', 'analyze', 'large', 'amount', 'natural', 'language', 'data', '.']\n",
      "Word Embedding for 'language': [-8.2366960e-03  9.3024066e-03 -1.9160727e-04 -1.9537506e-03\n",
      "  4.5930846e-03 -4.1033197e-03  2.7685089e-03  6.9527980e-03\n",
      "  6.0534729e-03 -7.5274953e-03  9.3846107e-03  4.6659750e-03\n",
      "  3.9667734e-03 -6.2381788e-03  8.4544504e-03 -2.1592372e-03\n",
      "  8.8337008e-03 -5.3761164e-03 -8.1357025e-03  6.8081212e-03\n",
      "  1.6691199e-03 -2.1922658e-03  9.5221736e-03  9.4999615e-03\n",
      " -9.7852061e-03  2.5018412e-03  6.1494769e-03  3.8640762e-03\n",
      "  2.0150146e-03  4.3935963e-04  6.8189146e-04 -3.8310324e-03\n",
      " -7.1382164e-03 -2.1045341e-03  3.9155609e-03  8.8262875e-03\n",
      "  9.2563815e-03 -5.9711249e-03 -9.4040874e-03  9.7559746e-03\n",
      "  3.4261607e-03  5.1568123e-03  6.2707551e-03 -2.8018660e-03\n",
      "  7.3250835e-03  2.8188252e-03  2.8635291e-03 -2.3821639e-03\n",
      " -3.1244261e-03 -2.3621398e-03  4.2709992e-03  7.1840397e-05\n",
      " -9.5866509e-03 -9.6688448e-03 -6.1479677e-03 -1.1575749e-04\n",
      "  2.0038832e-03  9.4197439e-03  5.5764155e-03 -4.2878245e-03\n",
      "  2.7075835e-04  4.9465257e-03  7.7068196e-03 -1.1440585e-03\n",
      "  4.3137311e-03 -5.8004484e-03 -8.2056661e-04  8.1025893e-03\n",
      " -2.3714858e-03 -9.6724620e-03  5.7874932e-03 -3.9188024e-03\n",
      " -1.2180622e-03  9.9769430e-03 -2.2482350e-03 -4.7597550e-03\n",
      " -5.3281933e-03  6.9844280e-03 -5.7079517e-03  2.1087367e-03\n",
      " -5.2571320e-03  6.1176824e-03  4.3670093e-03  2.6083391e-03\n",
      " -1.4862271e-03 -2.7541772e-03  8.9995619e-03  5.2161133e-03\n",
      " -2.1466191e-03 -9.4600199e-03 -7.4183992e-03 -1.0699126e-03\n",
      " -7.9621578e-04 -2.5675616e-03  9.6895257e-03 -4.5618720e-04\n",
      "  5.8706147e-03 -7.4602757e-03 -2.4987159e-03 -5.5531077e-03]\n"
     ]
    }
   ],
   "source": [
    "# Importing necessary libraries\n",
    "import nltk\n",
    "from nltk.corpus import stopwords\n",
    "from nltk.tokenize import word_tokenize\n",
    "from nltk.stem import PorterStemmer, WordNetLemmatizer\n",
    "from gensim.models import Word2Vec\n",
    "\n",
    "# Download NLTK resources\n",
    "nltk.download('punkt')\n",
    "nltk.download('stopwords')\n",
    "nltk.download('wordnet')\n",
    "\n",
    "# Sample text data\n",
    "text_data = \"Natural language processing (NLP) is a subfield of linguistics, computer science, \" \\\n",
    "            \"and artificial intelligence concerned with the interactions between computers and human \" \\\n",
    "            \"languages, in particular how to program computers to process and analyze large amounts \" \\\n",
    "            \"of natural language data.\"\n",
    "\n",
    "# Tokenization\n",
    "tokens = word_tokenize(text_data)\n",
    "\n",
    "# Stop-word Removal\n",
    "stop_words = set(stopwords.words('english'))\n",
    "filtered_tokens = [word for word in tokens if word.lower() not in stop_words]\n",
    "\n",
    "# Stemming\n",
    "stemmer = PorterStemmer()\n",
    "stemmed_tokens = [stemmer.stem(word) for word in filtered_tokens]\n",
    "\n",
    "# Lemmatization\n",
    "lemmatizer = WordNetLemmatizer()\n",
    "lemmatized_tokens = [lemmatizer.lemmatize(word) for word in filtered_tokens]\n",
    "\n",
    "# Word Embeddings (Word2Vec)\n",
    "sentences = [word_tokenize(sentence) for sentence in nltk.sent_tokenize(text_data)]\n",
    "word2vec_model = Word2Vec(sentences, vector_size=100, window=5, min_count=1, workers=4)\n",
    "\n",
    "# Test Word Embeddings\n",
    "word_embedding = word2vec_model.wv['language']\n",
    "\n",
    "# Print results\n",
    "print(\"Original Text:\", text_data)\n",
    "print(\"Tokens:\", tokens)\n",
    "print(\"Filtered Tokens (without stop words):\", filtered_tokens)\n",
    "print(\"Stemmed Tokens:\", stemmed_tokens)\n",
    "print(\"Lemmatized Tokens:\", lemmatized_tokens)\n",
    "print(\"Word Embedding for 'language':\", word_embedding)"
   ]
  },
  {
   "cell_type": "code",
   "execution_count": null,
   "id": "c25a4007",
   "metadata": {},
   "outputs": [],
   "source": []
  }
 ],
 "metadata": {
  "kernelspec": {
   "display_name": "Python 3 (ipykernel)",
   "language": "python",
   "name": "python3"
  },
  "language_info": {
   "codemirror_mode": {
    "name": "ipython",
    "version": 3
   },
   "file_extension": ".py",
   "mimetype": "text/x-python",
   "name": "python",
   "nbconvert_exporter": "python",
   "pygments_lexer": "ipython3",
   "version": "3.11.5"
  }
 },
 "nbformat": 4,
 "nbformat_minor": 5
}
